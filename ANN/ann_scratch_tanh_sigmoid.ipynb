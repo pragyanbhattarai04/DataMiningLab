{
 "cells": [
  {
   "cell_type": "code",
   "execution_count": 1,
   "metadata": {},
   "outputs": [],
   "source": [
    "import pandas as pd\n",
    "import numpy as np\n",
    "from matplotlib import pyplot as plt"
   ]
  },
  {
   "cell_type": "code",
   "execution_count": 2,
   "metadata": {},
   "outputs": [],
   "source": [
    "df = pd.read_csv('digit_data.csv')"
   ]
  },
  {
   "cell_type": "code",
   "execution_count": 3,
   "metadata": {},
   "outputs": [],
   "source": [
    "number_of_data = df.shape[0]\n",
    "number_of_features = df.shape[1]"
   ]
  },
  {
   "cell_type": "code",
   "execution_count": 4,
   "metadata": {},
   "outputs": [],
   "source": [
    "numpy_df = df.to_numpy()"
   ]
  },
  {
   "cell_type": "code",
   "execution_count": 5,
   "metadata": {},
   "outputs": [],
   "source": [
    "np.random.shuffle(numpy_df)"
   ]
  },
  {
   "cell_type": "code",
   "execution_count": 6,
   "metadata": {},
   "outputs": [],
   "source": [
    "test_data = numpy_df[:1000].T\n",
    "train_data = numpy_df[1000:].T"
   ]
  },
  {
   "cell_type": "code",
   "execution_count": 7,
   "metadata": {},
   "outputs": [],
   "source": [
    "test_data_label = test_data[0]\n",
    "train_data_label = train_data[0]"
   ]
  },
  {
   "cell_type": "code",
   "execution_count": 8,
   "metadata": {},
   "outputs": [],
   "source": [
    "train_data = train_data[1:,:]/255\n",
    "test_data = test_data[1:,:]/255"
   ]
  },
  {
   "cell_type": "code",
   "execution_count": 9,
   "metadata": {},
   "outputs": [
    {
     "data": {
      "text/plain": [
       "(784, 41000)"
      ]
     },
     "execution_count": 9,
     "metadata": {},
     "output_type": "execute_result"
    }
   ],
   "source": [
    "train_data.shape"
   ]
  },
  {
   "cell_type": "code",
   "execution_count": 10,
   "metadata": {},
   "outputs": [],
   "source": [
    "def plot_image(index):\n",
    "    reshaped_image = train_data.T[index].reshape(28,28)\n",
    "    print(f'Image is of Number {train_data_label[index]}')\n",
    "    plt.imshow(reshaped_image)"
   ]
  },
  {
   "cell_type": "code",
   "execution_count": 11,
   "metadata": {},
   "outputs": [
    {
     "name": "stdout",
     "output_type": "stream",
     "text": [
      "Image is of Number 0\n"
     ]
    },
    {
     "data": {
      "image/png": "[encoded data removed]",
      "text/plain": [
       "<Figure size 640x480 with 1 Axes>"
      ]
     },
     "metadata": {},
     "output_type": "display_data"
    }
   ],
   "source": [
    "plot_image(325)"
   ]
  },
  {
   "cell_type": "code",
   "execution_count": 12,
   "metadata": {},
   "outputs": [],
   "source": [
    "# using gumbel function to initalize the weight\n",
    "def initialize_weights(x_dimension, y_dimension):\n",
    "    generated = np.random.gumbel(loc=0.5,scale=0.5,size=(x_dimension, y_dimension))\n",
    "    # generated = np.random.uniform(-0.05, 0.05,size=(x_dimension,y_dimension))\n",
    "    return generated"
   ]
  },
  {
   "cell_type": "code",
   "execution_count": 13,
   "metadata": {},
   "outputs": [],
   "source": [
    "def initialize_parameters(input_size, hidden_size, output_size):\n",
    "    W1 = initialize_weights(hidden_size, input_size)\n",
    "    b1 = np.zeros((hidden_size,1))\n",
    "    W2 = initialize_weights(hidden_size, output_size)\n",
    "    b2 = np.zeros((output_size, 1))\n",
    "    return W1, b1, W2, b2"
   ]
  },
  {
   "cell_type": "code",
   "execution_count": 14,
   "metadata": {},
   "outputs": [],
   "source": [
    "def relu(x):\n",
    "    return np.maximum(x, 0)"
   ]
  },
  {
   "cell_type": "code",
   "execution_count": 15,
   "metadata": {},
   "outputs": [],
   "source": [
    "def derivative_relu(x):\n",
    "    return np.where(x > 0, 1, 0)"
   ]
  },
  {
   "cell_type": "code",
   "execution_count": 16,
   "metadata": {},
   "outputs": [],
   "source": [
    "# def softmax(x):\n",
    "#     total_sum = np.sum(x)\n",
    "#     return np.exp(x)/total_sum"
   ]
  },
  {
   "cell_type": "code",
   "execution_count": 17,
   "metadata": {},
   "outputs": [],
   "source": [
    "def softmax(input_vector):\n",
    "    exp_values = np.exp(input_vector - np.max(input_vector))\n",
    "    return exp_values / np.sum(exp_values)"
   ]
  },
  {
   "cell_type": "code",
   "execution_count": 18,
   "metadata": {},
   "outputs": [],
   "source": [
    "def forward_propagation(w1, b1, w2, b2, train_data):\n",
    "    z1 = np.dot(w1, train_data) + b1\n",
    "    A1 = relu(z1)\n",
    "    z2 = np.dot(w2, A1) + b2\n",
    "    A2 = softmax(z2)\n",
    "    return z1, A1, z2, A2"
   ]
  },
  {
   "cell_type": "code",
   "execution_count": 19,
   "metadata": {},
   "outputs": [],
   "source": [
    "def one_hot_encoding(Y):\n",
    "    return pd.get_dummies(Y, dtype=float)"
   ]
  },
  {
   "cell_type": "code",
   "execution_count": 20,
   "metadata": {},
   "outputs": [],
   "source": [
    "def backward_propagation(z1, A1, z2, A2, w1, w2, train_data, train_data_label):\n",
    "    m = train_data.shape[1]\n",
    "    dz2 = A2 - train_data_label\n",
    "    dw2 = np.dot(dz2,A1.T)/m\n",
    "    db2 = np.sum(z2, axis=1, keepdims=True)/m\n",
    "    dz1 = np.dot(w2.T, np.multiply(dz2, derivative_relu(z1)))\n",
    "    dw1 = np.dot(dz1,train_data.T)/m\n",
    "    db1 = np.sum(z1, axis=1, keepdims=True)/m\n",
    "\n",
    "    return dw1, db1, dw2, db2"
   ]
  },
  {
   "cell_type": "code",
   "execution_count": 21,
   "metadata": {},
   "outputs": [],
   "source": [
    "def update_parameter(w1, b1, w2, b2, dw1, db1, dw2, db2, learning_rate):\n",
    "    w1 = w1 - learning_rate * dw1\n",
    "    b1 = b1 - learning_rate * db1\n",
    "    w2 = w2 - learning_rate * dw2\n",
    "    b2 = b2 - learning_rate * db2\n",
    "    return w1, b1, w2, b2"
   ]
  },
  {
   "cell_type": "code",
   "execution_count": 22,
   "metadata": {},
   "outputs": [],
   "source": [
    "def obtain_prediction(A2):\n",
    "    return np.argmax(A2, axis=0)"
   ]
  },
  {
   "cell_type": "code",
   "execution_count": 23,
   "metadata": {},
   "outputs": [],
   "source": [
    "def accuracy_score(ground_truth, predicted):\n",
    "    num_total_samples = ground_truth.shape[0]\n",
    "\n",
    "    if ground_truth.ndim == 2:\n",
    "        actual_label = obtain_prediction(ground_truth)\n",
    "    else:\n",
    "        actual_label = ground_truth\n",
    "        \n",
    "    if predicted.ndim == 2:\n",
    "        predicted_label = obtain_prediction(predicted)\n",
    "    else:\n",
    "        predicted_label = predicted\n",
    "    \n",
    "    num_total_correct = np.sum(predicted_label == actual_label)\n",
    "\n",
    "    return (num_total_correct / num_total_samples)"
   ]
  },
  {
   "cell_type": "code",
   "execution_count": 24,
   "metadata": {},
   "outputs": [],
   "source": [
    "def gradient_descent(train_data, train_data_label, learning_rate, number_of_iterations):\n",
    "    w1, b1, w2, b2 = initialize_parameters(784, 10, 10)\n",
    "    \n",
    "\n",
    "    accuracy_list = []\n",
    "\n",
    "    for i in range(number_of_iterations+1):\n",
    "        z1, A1, z2, A2 = forward_propagation(w1, b1, w2, b2, train_data)\n",
    "        dw1, db1, dw2, db2 = backward_propagation(z1, A1, z2, A2, w1, w2, train_data, train_data_label)\n",
    "        w1, b1, w2, b2 = update_parameter(w1, b1, w2, b2, dw1, db1, dw2, db2, learning_rate)\n",
    "\n",
    "\n",
    "        if i%10==0:\n",
    "            accuracy = accuracy_score(train_data_label, A2)\n",
    "            accuracy_list.append((i,accuracy))\n",
    "            print(f\"Iteration: {i} \\t Accuracy: {accuracy:.5f}\")\n",
    "\n",
    "    return w1, b1, w2, b2, accuracy_list\n",
    "    "
   ]
  },
  {
   "cell_type": "code",
   "execution_count": 25,
   "metadata": {},
   "outputs": [
    {
     "data": {
      "text/plain": [
       "(784, 41000)"
      ]
     },
     "execution_count": 25,
     "metadata": {},
     "output_type": "execute_result"
    }
   ],
   "source": [
    "train_data.shape"
   ]
  },
  {
   "cell_type": "code",
   "execution_count": 26,
   "metadata": {},
   "outputs": [
    {
     "name": "stdout",
     "output_type": "stream",
     "text": [
      "Iteration: 0 \t Accuracy: 0.09617\n",
      "Iteration: 10 \t Accuracy: 0.09656\n",
      "Iteration: 20 \t Accuracy: 0.09685\n",
      "Iteration: 30 \t Accuracy: 0.09717\n",
      "Iteration: 40 \t Accuracy: 0.09732\n",
      "Iteration: 50 \t Accuracy: 0.09749\n",
      "Iteration: 60 \t Accuracy: 0.09763\n",
      "Iteration: 70 \t Accuracy: 0.09771\n",
      "Iteration: 80 \t Accuracy: 0.09778\n",
      "Iteration: 90 \t Accuracy: 0.09798\n",
      "Iteration: 100 \t Accuracy: 0.09807\n",
      "Iteration: 110 \t Accuracy: 0.09812\n",
      "Iteration: 120 \t Accuracy: 0.09812\n",
      "Iteration: 130 \t Accuracy: 0.09815\n",
      "Iteration: 140 \t Accuracy: 0.09815\n",
      "Iteration: 150 \t Accuracy: 0.09812\n",
      "Iteration: 160 \t Accuracy: 0.09812\n",
      "Iteration: 170 \t Accuracy: 0.09812\n",
      "Iteration: 180 \t Accuracy: 0.09815\n",
      "Iteration: 190 \t Accuracy: 0.09815\n",
      "Iteration: 200 \t Accuracy: 0.09815\n",
      "Iteration: 210 \t Accuracy: 0.09817\n",
      "Iteration: 220 \t Accuracy: 0.09817\n",
      "Iteration: 230 \t Accuracy: 0.09817\n",
      "Iteration: 240 \t Accuracy: 0.09817\n",
      "Iteration: 250 \t Accuracy: 0.09817\n",
      "Iteration: 260 \t Accuracy: 0.09820\n",
      "Iteration: 270 \t Accuracy: 0.09820\n",
      "Iteration: 280 \t Accuracy: 0.09820\n",
      "Iteration: 290 \t Accuracy: 0.09820\n",
      "Iteration: 300 \t Accuracy: 0.09820\n",
      "Iteration: 310 \t Accuracy: 0.09820\n",
      "Iteration: 320 \t Accuracy: 0.09820\n",
      "Iteration: 330 \t Accuracy: 0.09820\n",
      "Iteration: 340 \t Accuracy: 0.09822\n",
      "Iteration: 350 \t Accuracy: 0.09822\n",
      "Iteration: 360 \t Accuracy: 0.09822\n",
      "Iteration: 370 \t Accuracy: 0.09822\n",
      "Iteration: 380 \t Accuracy: 0.09822\n",
      "Iteration: 390 \t Accuracy: 0.09822\n",
      "Iteration: 400 \t Accuracy: 0.09822\n",
      "Iteration: 410 \t Accuracy: 0.09822\n",
      "Iteration: 420 \t Accuracy: 0.09822\n",
      "Iteration: 430 \t Accuracy: 0.09822\n",
      "Iteration: 440 \t Accuracy: 0.09822\n",
      "Iteration: 450 \t Accuracy: 0.09822\n",
      "Iteration: 460 \t Accuracy: 0.09822\n",
      "Iteration: 470 \t Accuracy: 0.09822\n",
      "Iteration: 480 \t Accuracy: 0.09822\n",
      "Iteration: 490 \t Accuracy: 0.09822\n",
      "Iteration: 500 \t Accuracy: 0.09822\n",
      "Iteration: 510 \t Accuracy: 0.09822\n",
      "Iteration: 520 \t Accuracy: 0.09822\n",
      "Iteration: 530 \t Accuracy: 0.09822\n",
      "Iteration: 540 \t Accuracy: 0.09822\n",
      "Iteration: 550 \t Accuracy: 0.09822\n",
      "Iteration: 560 \t Accuracy: 0.09822\n",
      "Iteration: 570 \t Accuracy: 0.09822\n",
      "Iteration: 580 \t Accuracy: 0.09822\n",
      "Iteration: 590 \t Accuracy: 0.09822\n",
      "Iteration: 600 \t Accuracy: 0.09822\n",
      "Iteration: 610 \t Accuracy: 0.09822\n",
      "Iteration: 620 \t Accuracy: 0.09822\n",
      "Iteration: 630 \t Accuracy: 0.09822\n",
      "Iteration: 640 \t Accuracy: 0.09822\n",
      "Iteration: 650 \t Accuracy: 0.09822\n",
      "Iteration: 660 \t Accuracy: 0.09822\n",
      "Iteration: 670 \t Accuracy: 0.09822\n",
      "Iteration: 680 \t Accuracy: 0.09822\n",
      "Iteration: 690 \t Accuracy: 0.09822\n",
      "Iteration: 700 \t Accuracy: 0.09822\n",
      "Iteration: 710 \t Accuracy: 0.09822\n",
      "Iteration: 720 \t Accuracy: 0.09822\n",
      "Iteration: 730 \t Accuracy: 0.09822\n",
      "Iteration: 740 \t Accuracy: 0.09822\n",
      "Iteration: 750 \t Accuracy: 0.09822\n",
      "Iteration: 760 \t Accuracy: 0.09822\n",
      "Iteration: 770 \t Accuracy: 0.09822\n",
      "Iteration: 780 \t Accuracy: 0.09822\n",
      "Iteration: 790 \t Accuracy: 0.09822\n",
      "Iteration: 800 \t Accuracy: 0.09822\n",
      "Iteration: 810 \t Accuracy: 0.09822\n",
      "Iteration: 820 \t Accuracy: 0.09822\n",
      "Iteration: 830 \t Accuracy: 0.09822\n",
      "Iteration: 840 \t Accuracy: 0.09822\n",
      "Iteration: 850 \t Accuracy: 0.09822\n",
      "Iteration: 860 \t Accuracy: 0.09822\n",
      "Iteration: 870 \t Accuracy: 0.09822\n",
      "Iteration: 880 \t Accuracy: 0.09822\n",
      "Iteration: 890 \t Accuracy: 0.09822\n"
     ]
    }
   ],
   "source": [
    "w1, b1, w2, b2, accuracy_list = gradient_descent(train_data, train_data_label, learning_rate=0.00001, number_of_iterations=1000)"
   ]
  },
  {
   "cell_type": "code",
   "execution_count": null,
   "metadata": {},
   "outputs": [],
   "source": [
    "iterations, accuracies = zip(*accuracy_list)\n",
    "\n",
    "plt.figure(figsize=(10, 6))\n",
    "plt.plot(iterations, accuracies, linestyle='-.', color='b')\n",
    "plt.title('Accuracy vs. Iteration for Gumbel when loc = -0.005 and scale = 0.5')\n",
    "plt.xlabel('Iteration')\n",
    "plt.ylabel('Accuracy')\n",
    "plt.grid(False)\n",
    "plt.savefig('Gumbel1.png')\n",
    "plt.show()"
   ]
  },
  {
   "cell_type": "code",
   "execution_count": null,
   "metadata": {},
   "outputs": [],
   "source": [
    "def make_test_predictions(w1, b1, w2, b2, test_data):\n",
    "    _,_,_, A2 = forward_propagation(w1, b1, w2, b2, test_data)\n",
    "    test_prediction = obtain_prediction(A2)\n",
    "    return test_prediction"
   ]
  },
  {
   "cell_type": "code",
   "execution_count": null,
   "metadata": {},
   "outputs": [],
   "source": [
    "def plot_test_image(image):\n",
    "    reshaped = image.reshape(28,-1)\n",
    "    plt.imshow(reshaped)\n",
    "    plt.show()\n",
    "    return 'done'"
   ]
  },
  {
   "cell_type": "code",
   "execution_count": null,
   "metadata": {},
   "outputs": [],
   "source": [
    "def test_predictions(W1, b1, W2, b2, X_test, y_test):\n",
    "    test = make_test_predictions(W1, b1, W2, b2, X_test)\n",
    "    image = X_test.T\n",
    "    accuracy = accuracy_score(y_test, test)\n",
    "    print(f\"Accuracy:{accuracy}\")\n",
    "    for i in range(10):\n",
    "        print(f'test predicted value is {test[i]} and ground truth is {y_test[i]}')\n",
    "        plot_test_image(image[i])"
   ]
  },
  {
   "cell_type": "code",
   "execution_count": null,
   "metadata": {},
   "outputs": [],
   "source": [
    "test_predictions(w1, b1, w2, b2, test_data, test_data_label)"
   ]
  },
  {
   "cell_type": "code",
   "execution_count": null,
   "metadata": {},
   "outputs": [],
   "source": []
  },
  {
   "cell_type": "code",
   "execution_count": null,
   "metadata": {},
   "outputs": [],
   "source": []
  }
 ],
 "metadata": {
  "kernelspec": {
   "display_name": "env",
   "language": "python",
   "name": "python3"
  },
  "language_info": {
   "codemirror_mode": {
    "name": "ipython",
    "version": 3
   },
   "file_extension": ".py",
   "mimetype": "text/x-python",
   "name": "python",
   "nbconvert_exporter": "python",
   "pygments_lexer": "ipython3",
   "version": "3.10.12"
  }
 },
 "nbformat": 4,
 "nbformat_minor": 2
}
